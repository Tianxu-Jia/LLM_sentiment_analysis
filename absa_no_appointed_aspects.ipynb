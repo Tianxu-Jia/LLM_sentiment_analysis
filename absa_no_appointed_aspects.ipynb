{
 "cells": [
  {
   "cell_type": "code",
   "execution_count": 1,
   "metadata": {},
   "outputs": [],
   "source": [
    "from langchain.prompts import PromptTemplate\n",
    "from langchain.llms import OpenAI\n",
    "import os\n",
    "from langchain.chains import LLMChain\n",
    "from langchain.output_parsers import StructuredOutputParser, ResponseSchema"
   ]
  },
  {
   "cell_type": "code",
   "execution_count": 2,
   "metadata": {},
   "outputs": [],
   "source": [
    "\n",
    "response_schemas = [\n",
    "    ResponseSchema(name=\"aspect_term\", description=\"aspect term\"),\n",
    "    ResponseSchema(name=\"sentiment\", description=\"sentiment, can be positive, neutral or negative\")\n",
    "]\n",
    "output_parser = StructuredOutputParser.from_response_schemas(response_schemas)\n",
    "format_instructions = output_parser.get_format_instructions()\n",
    "\n",
    "template = \"\"\"This the review from Amazon. The tile of the review is: {title}. The content if the review is: {review}. \n",
    "You are expert in NLP and aspect based sentiment analysis. Please do aspect base sentential analysis with the review and the title  with it. \\\n",
    "\n",
    "Please give out your reply in the format as: \n",
    "aspect term: class(Neutral, positive, or negative.).\n",
    "If you don't know the answer, just say that you don't know, don't try to make up an answer. \n",
    "\\n{aspect_term}\\n{sentiment}\"\"\""
   ]
  },
  {
   "cell_type": "code",
   "execution_count": 3,
   "metadata": {},
   "outputs": [],
   "source": [
    "prompt = PromptTemplate(\n",
    "    template=template,\n",
    "    input_variables=[\"title\", \"review\"],\n",
    "    partial_variables={\"aspect_term\": format_instructions, \"sentiment\":format_instructions}\n",
    ")"
   ]
  },
  {
   "cell_type": "code",
   "execution_count": 4,
   "metadata": {},
   "outputs": [],
   "source": [
    "# configure .bashrx\n",
    "#export OPENAI_API_KEY=sk-xxxxxxxxxxxxxxxxxxxxxxxxxxxxxxxx\n",
    "model = OpenAI(temperature=0)"
   ]
  },
  {
   "cell_type": "code",
   "execution_count": 5,
   "metadata": {},
   "outputs": [],
   "source": [
    "title_ = \"The hype is real, I stand corrected\"\n",
    "review_ = \"For so long I never bought these because I didn’t want to support the kardashians financially since they promoted it often, however now years later, I tried it and I love it. A family friend who went to cosmetology school, and hair school, recommended these to me after I told her that ever since I cut my hair super short in college I feel like my hair doesn’t grow pst a certain length anymore. I started taking these and my lashes are fuller and my brows are fuller! Best of all my hair is literally noticeably longer than it ever has been other than when I was a little girl. I didn’t want to believe it but it works. I will note that I have a sensitivity to biotin, but most HSN type of vitamins have biotin in them. Because of this I have the tendency to break out when taking anything with it as an incredibly even in the smallest amount. This is something I never was looking to “sacrifice” with other vitamins because they didn’t show much results and I would break out quite a bit, even on my back (I NEVER break out there). My break outs while taking sugar bear were not the worst, but I was getting more than one which I never do. I use a pretty consistent routine that otherwise leaves my skin pretty clear so I feel like I notice everything on my face. Will be repurchasing !\""
   ]
  },
  {
   "cell_type": "code",
   "execution_count": 6,
   "metadata": {},
   "outputs": [],
   "source": [
    "_input = prompt.format_prompt(title=title_, review=review_)"
   ]
  },
  {
   "cell_type": "code",
   "execution_count": 7,
   "metadata": {},
   "outputs": [],
   "source": [
    "output = model(_input.to_string())"
   ]
  },
  {
   "cell_type": "code",
   "execution_count": 8,
   "metadata": {},
   "outputs": [
    {
     "name": "stdout",
     "output_type": "stream",
     "text": [
      "\n",
      "\n",
      "Title:\n",
      "\"The hype is real, I stand corrected\" - sentiment: Positive\n",
      "\n",
      "Review:\n",
      "\"Family friend\" - sentiment: Neutral\n",
      "\"Cosmetology school\" - sentiment: Neutral\n",
      "\"Hair school\" - sentiment: Neutral\n",
      "\"Cut my hair\" - sentiment: Neutral\n",
      "\"Lashes are fuller\" - sentiment: Positive\n",
      "\"Brows are fuller\" - sentiment: Positive\n",
      "\"Hair is longer\" - sentiment: Positive\n",
      "\"Sensitivity to biotin\" - sentiment: Neutral\n",
      "\"HSN type of vitamins\" - sentiment: Neutral\n",
      "\"Break out\" - sentiment: Negative\n",
      "\"Repurchasing\" - sentiment: Positive\n"
     ]
    }
   ],
   "source": [
    "print(output)"
   ]
  },
  {
   "cell_type": "code",
   "execution_count": null,
   "metadata": {},
   "outputs": [],
   "source": []
  }
 ],
 "metadata": {
  "kernelspec": {
   "display_name": "llm311",
   "language": "python",
   "name": "python3"
  },
  "language_info": {
   "codemirror_mode": {
    "name": "ipython",
    "version": 3
   },
   "file_extension": ".py",
   "mimetype": "text/x-python",
   "name": "python",
   "nbconvert_exporter": "python",
   "pygments_lexer": "ipython3",
   "version": "3.11.5"
  },
  "orig_nbformat": 4
 },
 "nbformat": 4,
 "nbformat_minor": 2
}
