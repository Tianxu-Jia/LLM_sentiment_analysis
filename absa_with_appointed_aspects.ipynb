{
 "cells": [
  {
   "cell_type": "code",
   "execution_count": 1,
   "metadata": {},
   "outputs": [],
   "source": [
    "from langchain.prompts import PromptTemplate\n",
    "from langchain.llms import OpenAI\n",
    "import os\n",
    "from langchain.chains import LLMChain\n",
    "from langchain.output_parsers import StructuredOutputParser, ResponseSchema\n",
    "import pandas as pd\n",
    "import numpy as np\n",
    "import json"
   ]
  },
  {
   "cell_type": "code",
   "execution_count": 2,
   "metadata": {},
   "outputs": [],
   "source": [
    "def str2json(json_string):\n",
    "        # Split string into lines \n",
    "    lines = json_string.split('\\n')\n",
    "\n",
    "    # Initialize empty dictionary\n",
    "    data = {}\n",
    "\n",
    "    # Iterate through lines \n",
    "    for line in lines:\n",
    "        # Split line into key-value pair\n",
    "        try:\n",
    "            if len(line)>2:\n",
    "                parts = line.split(': ')\n",
    "        \n",
    "                # Extract key and value\n",
    "                key = parts[0].strip('\"').strip('{')\n",
    "                value = parts[1].strip('}')\n",
    "        \n",
    "                # Add to dictionary\n",
    "                data[key] = value\n",
    "        except:\n",
    "            continue\n",
    "\n",
    "    return data"
   ]
  },
  {
   "cell_type": "code",
   "execution_count": 3,
   "metadata": {},
   "outputs": [],
   "source": [
    "response_schemas = [\n",
    "    ResponseSchema(name=\"aspect_term\", description=\"aspect term\"),\n",
    "    ResponseSchema(name=\"sedntiment\", description=\"sentiment, can be positive, neutral or negative\")\n",
    "]\n",
    "\n",
    "output_parser = StructuredOutputParser.from_response_schemas(response_schemas)\n",
    "format_instructions = output_parser.get_format_instructions()"
   ]
  },
  {
   "cell_type": "code",
   "execution_count": 4,
   "metadata": {},
   "outputs": [],
   "source": [
    "template = \"\"\"This the review from Amazon customer. The tile of the review is: {title}. The content if the review is: {review}. \n",
    "You are expert in NLP and aspect based sentiment analysis. Please do aspect based sentential analysis with the review and the title in the \\ \n",
    "following aspects:\\\n",
    "# Effectiveness\n",
    "# Price\n",
    "# Taste\n",
    "# Side effects\n",
    "# Quality control\n",
    "# Varied results\n",
    "# Ingredients. \\\n",
    "\n",
    "Please give out your reply in the json format, use the aspect term as key, and class(Neutral, positive, or negative) as value: \n",
    "aspect term: class(Neutral, positive, or negative.).\n",
    "If you don't know the answer, just say that you don't know, don't try to make up an answer. \n",
    "\\n{aspect_term}\\n{sentiment}\n",
    "\"\"\""
   ]
  },
  {
   "cell_type": "code",
   "execution_count": 5,
   "metadata": {},
   "outputs": [],
   "source": [
    "prompt = PromptTemplate(\n",
    "    template=template,\n",
    "    input_variables=[\"title\", \"review\"],\n",
    "    partial_variables={\"aspect_term\": format_instructions, \"sentiment\":format_instructions}\n",
    ")"
   ]
  },
  {
   "cell_type": "code",
   "execution_count": 6,
   "metadata": {},
   "outputs": [],
   "source": [
    "model = OpenAI(temperature=0)"
   ]
  },
  {
   "cell_type": "code",
   "execution_count": 9,
   "metadata": {},
   "outputs": [],
   "source": [
    "df = pd.read_csv('./data/ABSA.csv')\n",
    "df_data = df.loc[:, ['title', 'content']]\n",
    "df_data = df_data.iloc[:50,:]\n",
    "\n",
    "df_data['aspect_sentiment'] = np.nan\n",
    "\n",
    "for idx, row in df_data.iterrows():\n",
    "    title_ = row['title']\n",
    "    review_ = row['content']\n",
    "    _input = prompt.format_prompt(title=title_, review=review_)\n",
    "    output = model(_input.to_string())\n",
    "    \n",
    "    df_data.loc[idx, 'aspect_sentiment'] = output   "
   ]
  },
  {
   "cell_type": "code",
   "execution_count": 10,
   "metadata": {},
   "outputs": [
    {
     "data": {
      "text/html": [
       "<div>\n",
       "<style scoped>\n",
       "    .dataframe tbody tr th:only-of-type {\n",
       "        vertical-align: middle;\n",
       "    }\n",
       "\n",
       "    .dataframe tbody tr th {\n",
       "        vertical-align: top;\n",
       "    }\n",
       "\n",
       "    .dataframe thead th {\n",
       "        text-align: right;\n",
       "    }\n",
       "</style>\n",
       "<table border=\"1\" class=\"dataframe\">\n",
       "  <thead>\n",
       "    <tr style=\"text-align: right;\">\n",
       "      <th></th>\n",
       "      <th>title</th>\n",
       "      <th>content</th>\n",
       "      <th>aspect_sentiment</th>\n",
       "    </tr>\n",
       "  </thead>\n",
       "  <tbody>\n",
       "    <tr>\n",
       "      <th>0</th>\n",
       "      <td>UPDATED REVIEW - 5 months in</td>\n",
       "      <td>I have been taking these gummies (along with t...</td>\n",
       "      <td>\\n{\"Effectiveness\": \"Positive\",\\n\"Price\": \"Neu...</td>\n",
       "    </tr>\n",
       "    <tr>\n",
       "      <th>1</th>\n",
       "      <td>This helped me slow down hair loss, but when I...</td>\n",
       "      <td>They are a little expensive, but they seem to ...</td>\n",
       "      <td>\\nEffectiveness: Positive\\nPrice: Neutral\\nTas...</td>\n",
       "    </tr>\n",
       "    <tr>\n",
       "      <th>2</th>\n",
       "      <td>The hype is real, I stand corrected</td>\n",
       "      <td>For so long I never bought these because I did...</td>\n",
       "      <td>\\n{\"Effectiveness\": \"Positive\",\\n\"Price\": \"Neu...</td>\n",
       "    </tr>\n",
       "    <tr>\n",
       "      <th>3</th>\n",
       "      <td>Excelente</td>\n",
       "      <td>Mi comentario positivo no es por que me hayan ...</td>\n",
       "      <td>\\nEffectiveness: Positive\\nPrice: Negative\\nTa...</td>\n",
       "    </tr>\n",
       "    <tr>\n",
       "      <th>4</th>\n",
       "      <td>Do it!!</td>\n",
       "      <td>I have tried this product a few times over the...</td>\n",
       "      <td>\\n\"Effectiveness\": \"Positive\",\\n\"Price\": \"Neut...</td>\n",
       "    </tr>\n",
       "  </tbody>\n",
       "</table>\n",
       "</div>"
      ],
      "text/plain": [
       "                                               title  \\\n",
       "0                       UPDATED REVIEW - 5 months in   \n",
       "1  This helped me slow down hair loss, but when I...   \n",
       "2                The hype is real, I stand corrected   \n",
       "3                                          Excelente   \n",
       "4                                            Do it!!   \n",
       "\n",
       "                                             content  \\\n",
       "0  I have been taking these gummies (along with t...   \n",
       "1  They are a little expensive, but they seem to ...   \n",
       "2  For so long I never bought these because I did...   \n",
       "3  Mi comentario positivo no es por que me hayan ...   \n",
       "4  I have tried this product a few times over the...   \n",
       "\n",
       "                                    aspect_sentiment  \n",
       "0  \\n{\"Effectiveness\": \"Positive\",\\n\"Price\": \"Neu...  \n",
       "1  \\nEffectiveness: Positive\\nPrice: Neutral\\nTas...  \n",
       "2  \\n{\"Effectiveness\": \"Positive\",\\n\"Price\": \"Neu...  \n",
       "3  \\nEffectiveness: Positive\\nPrice: Negative\\nTa...  \n",
       "4  \\n\"Effectiveness\": \"Positive\",\\n\"Price\": \"Neut...  "
      ]
     },
     "execution_count": 10,
     "metadata": {},
     "output_type": "execute_result"
    }
   ],
   "source": [
    "df_data.head()"
   ]
  },
  {
   "cell_type": "code",
   "execution_count": 95,
   "metadata": {},
   "outputs": [],
   "source": [
    "#df_data.to_csv('absa.csv')"
   ]
  },
  {
   "cell_type": "code",
   "execution_count": 11,
   "metadata": {},
   "outputs": [],
   "source": [
    "title_ = \"The hype is real, I stand corrected\"\n",
    "review_ = \"For so long I never bought these because I didn’t want to support the kardashians financially since they promoted it often, however now years later, I tried it and I love it. A family friend who went to cosmetology school, and hair school, recommended these to me after I told her that ever since I cut my hair super short in college I feel like my hair doesn’t grow pst a certain length anymore. I started taking these and my lashes are fuller and my brows are fuller! Best of all my hair is literally noticeably longer than it ever has been other than when I was a little girl. I didn’t want to believe it but it works. I will note that I have a sensitivity to biotin, but most HSN type of vitamins have biotin in them. Because of this I have the tendency to break out when taking anything with it as an incredibly even in the smallest amount. This is something I never was looking to “sacrifice” with other vitamins because they didn’t show much results and I would break out quite a bit, even on my back (I NEVER break out there). My break outs while taking sugar bear were not the worst, but I was getting more than one which I never do. I use a pretty consistent routine that otherwise leaves my skin pretty clear so I feel like I notice everything on my face. Will be repurchasing !\""
   ]
  },
  {
   "cell_type": "code",
   "execution_count": 12,
   "metadata": {},
   "outputs": [],
   "source": [
    "_input = prompt.format_prompt(title=title_, review=review_)"
   ]
  },
  {
   "cell_type": "code",
   "execution_count": 13,
   "metadata": {},
   "outputs": [],
   "source": [
    "output = model(_input.to_string())"
   ]
  },
  {
   "cell_type": "code",
   "execution_count": 14,
   "metadata": {},
   "outputs": [
    {
     "name": "stdout",
     "output_type": "stream",
     "text": [
      "\n",
      "{\"Effectiveness\": \"Positive\",\n",
      "\"Price\": \"Neutral\",\n",
      "\"Taste\": \"Don't Know\",\n",
      "\"Side effects\": \"Negative\",\n",
      "\"Quality control\": \"Neutral\",\n",
      "\"Varied results\": \"Positive\",\n",
      "\"Ingredients\": \"Neutral\"}\n"
     ]
    }
   ],
   "source": [
    "print(output)"
   ]
  },
  {
   "cell_type": "code",
   "execution_count": 15,
   "metadata": {},
   "outputs": [
    {
     "data": {
      "text/plain": [
       "'\\n{\"Effectiveness\": \"Positive\",\\n\"Price\": \"Neutral\",\\n\"Taste\": \"Don\\'t Know\",\\n\"Side effects\": \"Negative\",\\n\"Quality control\": \"Neutral\",\\n\"Varied results\": \"Positive\",\\n\"Ingredients\": \"Neutral\"}'"
      ]
     },
     "execution_count": 15,
     "metadata": {},
     "output_type": "execute_result"
    }
   ],
   "source": [
    "output"
   ]
  },
  {
   "cell_type": "code",
   "execution_count": null,
   "metadata": {},
   "outputs": [],
   "source": []
  }
 ],
 "metadata": {
  "kernelspec": {
   "display_name": "llm311",
   "language": "python",
   "name": "python3"
  },
  "language_info": {
   "codemirror_mode": {
    "name": "ipython",
    "version": 3
   },
   "file_extension": ".py",
   "mimetype": "text/x-python",
   "name": "python",
   "nbconvert_exporter": "python",
   "pygments_lexer": "ipython3",
   "version": "3.11.5"
  },
  "orig_nbformat": 4
 },
 "nbformat": 4,
 "nbformat_minor": 2
}
